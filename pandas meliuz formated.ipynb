{
 "cells": [
  {
   "cell_type": "code",
   "execution_count": 1,
   "id": "58062227",
   "metadata": {},
   "outputs": [],
   "source": [
    "import pandas as pd\n",
    "import numpy as np\n",
    "from pandas import Series, DataFrame"
   ]
  },
  {
   "cell_type": "code",
   "execution_count": 2,
   "id": "1dc8ad26",
   "metadata": {},
   "outputs": [],
   "source": [
    "meliuz_data = pd.read_csv('C:/Users/marianasouza/Downloads/testemeliuz.csv')"
   ]
  },
  {
   "cell_type": "code",
   "execution_count": 3,
   "id": "79a81622",
   "metadata": {},
   "outputs": [
    {
     "data": {
      "text/plain": [
       "<bound method DataFrame.info of       Purchase Date  Quant. de Vendas Payment Type       Store         GMV  \\\n",
       "0          1/1/2020               1.0        TipoA   Parceiro5    R$830.64   \n",
       "1          1/1/2020               5.0        TipoB   Parceiro5  R$1,225.44   \n",
       "2          1/1/2020               2.0        TipoB   Parceiro4  R$1,625.44   \n",
       "3          1/1/2020               2.0        TipoA   Parceiro6  R$1,436.95   \n",
       "4          1/1/2020               5.0        TipoB   Parceiro1  R$2,776.41   \n",
       "...             ...               ...          ...         ...         ...   \n",
       "49966    12/31/2020               4.0        TipoA   Parceiro4    R$491.17   \n",
       "49967    12/31/2020               4.0        TipoC   Parceiro2  R$1,045.06   \n",
       "49968    12/31/2020               6.0        TipoB   Parceiro4  R$2,479.12   \n",
       "49969    12/31/2020               6.0        TipoB   Parceiro1     R$37.21   \n",
       "49970    12/31/2020               5.0        TipoC  Parceiro10  R$2,578.01   \n",
       "\n",
       "                  Estado is_promotional  \n",
       "0           minas gerais            NaN  \n",
       "1              Sao Paulo            NaN  \n",
       "2              Sao Paulo            NaN  \n",
       "3      Rio Grande do Sul            NaN  \n",
       "4           Minas Gerais            NaN  \n",
       "...                  ...            ...  \n",
       "49966           Maranhão            NaN  \n",
       "49967              Bahia            NaN  \n",
       "49968           Rondônia            NaN  \n",
       "49969           Maranhão            NaN  \n",
       "49970  Rio Grande do Sul            NaN  \n",
       "\n",
       "[49971 rows x 7 columns]>"
      ]
     },
     "execution_count": 3,
     "metadata": {},
     "output_type": "execute_result"
    }
   ],
   "source": [
    "meliuz_data.info"
   ]
  },
  {
   "cell_type": "code",
   "execution_count": 4,
   "id": "82e04522",
   "metadata": {},
   "outputs": [
    {
     "data": {
      "text/html": [
       "<div>\n",
       "<style scoped>\n",
       "    .dataframe tbody tr th:only-of-type {\n",
       "        vertical-align: middle;\n",
       "    }\n",
       "\n",
       "    .dataframe tbody tr th {\n",
       "        vertical-align: top;\n",
       "    }\n",
       "\n",
       "    .dataframe thead th {\n",
       "        text-align: right;\n",
       "    }\n",
       "</style>\n",
       "<table border=\"1\" class=\"dataframe\">\n",
       "  <thead>\n",
       "    <tr style=\"text-align: right;\">\n",
       "      <th></th>\n",
       "      <th>Purchase Date</th>\n",
       "      <th>Quant. de Vendas</th>\n",
       "      <th>Payment Type</th>\n",
       "      <th>Store</th>\n",
       "      <th>GMV</th>\n",
       "      <th>Estado</th>\n",
       "      <th>is_promotional</th>\n",
       "    </tr>\n",
       "  </thead>\n",
       "  <tbody>\n",
       "    <tr>\n",
       "      <th>0</th>\n",
       "      <td>1/1/2020</td>\n",
       "      <td>1.0</td>\n",
       "      <td>TipoA</td>\n",
       "      <td>Parceiro5</td>\n",
       "      <td>R$830.64</td>\n",
       "      <td>minas gerais</td>\n",
       "      <td>NaN</td>\n",
       "    </tr>\n",
       "    <tr>\n",
       "      <th>1</th>\n",
       "      <td>1/1/2020</td>\n",
       "      <td>5.0</td>\n",
       "      <td>TipoB</td>\n",
       "      <td>Parceiro5</td>\n",
       "      <td>R$1,225.44</td>\n",
       "      <td>Sao Paulo</td>\n",
       "      <td>NaN</td>\n",
       "    </tr>\n",
       "    <tr>\n",
       "      <th>2</th>\n",
       "      <td>1/1/2020</td>\n",
       "      <td>2.0</td>\n",
       "      <td>TipoB</td>\n",
       "      <td>Parceiro4</td>\n",
       "      <td>R$1,625.44</td>\n",
       "      <td>Sao Paulo</td>\n",
       "      <td>NaN</td>\n",
       "    </tr>\n",
       "    <tr>\n",
       "      <th>3</th>\n",
       "      <td>1/1/2020</td>\n",
       "      <td>2.0</td>\n",
       "      <td>TipoA</td>\n",
       "      <td>Parceiro6</td>\n",
       "      <td>R$1,436.95</td>\n",
       "      <td>Rio Grande do Sul</td>\n",
       "      <td>NaN</td>\n",
       "    </tr>\n",
       "    <tr>\n",
       "      <th>4</th>\n",
       "      <td>1/1/2020</td>\n",
       "      <td>5.0</td>\n",
       "      <td>TipoB</td>\n",
       "      <td>Parceiro1</td>\n",
       "      <td>R$2,776.41</td>\n",
       "      <td>Minas Gerais</td>\n",
       "      <td>NaN</td>\n",
       "    </tr>\n",
       "  </tbody>\n",
       "</table>\n",
       "</div>"
      ],
      "text/plain": [
       "  Purchase Date  Quant. de Vendas Payment Type      Store         GMV  \\\n",
       "0      1/1/2020               1.0        TipoA  Parceiro5    R$830.64   \n",
       "1      1/1/2020               5.0        TipoB  Parceiro5  R$1,225.44   \n",
       "2      1/1/2020               2.0        TipoB  Parceiro4  R$1,625.44   \n",
       "3      1/1/2020               2.0        TipoA  Parceiro6  R$1,436.95   \n",
       "4      1/1/2020               5.0        TipoB  Parceiro1  R$2,776.41   \n",
       "\n",
       "              Estado is_promotional  \n",
       "0       minas gerais            NaN  \n",
       "1          Sao Paulo            NaN  \n",
       "2          Sao Paulo            NaN  \n",
       "3  Rio Grande do Sul            NaN  \n",
       "4       Minas Gerais            NaN  "
      ]
     },
     "execution_count": 4,
     "metadata": {},
     "output_type": "execute_result"
    }
   ],
   "source": [
    "meliuz_data.head()"
   ]
  },
  {
   "cell_type": "code",
   "execution_count": 9,
   "id": "41d433c4",
   "metadata": {},
   "outputs": [
    {
     "data": {
      "text/html": [
       "<div>\n",
       "<style scoped>\n",
       "    .dataframe tbody tr th:only-of-type {\n",
       "        vertical-align: middle;\n",
       "    }\n",
       "\n",
       "    .dataframe tbody tr th {\n",
       "        vertical-align: top;\n",
       "    }\n",
       "\n",
       "    .dataframe thead th {\n",
       "        text-align: right;\n",
       "    }\n",
       "</style>\n",
       "<table border=\"1\" class=\"dataframe\">\n",
       "  <thead>\n",
       "    <tr style=\"text-align: right;\">\n",
       "      <th></th>\n",
       "      <th>Estado</th>\n",
       "      <th>GMV</th>\n",
       "    </tr>\n",
       "  </thead>\n",
       "  <tbody>\n",
       "    <tr>\n",
       "      <th>0</th>\n",
       "      <td>Acre</td>\n",
       "      <td>R$48.91R$2,613.88R$755.96R$3,592.16R$2,984.27R...</td>\n",
       "    </tr>\n",
       "    <tr>\n",
       "      <th>1</th>\n",
       "      <td>Alagoas</td>\n",
       "      <td>R$353.11R$2,897.06R$2,744.83R$3,426.24R$3,464....</td>\n",
       "    </tr>\n",
       "    <tr>\n",
       "      <th>2</th>\n",
       "      <td>Amapá</td>\n",
       "      <td>R$1,258.62R$2,361.02R$138.18R$2,274.70R$3,658....</td>\n",
       "    </tr>\n",
       "    <tr>\n",
       "      <th>3</th>\n",
       "      <td>Amazonas</td>\n",
       "      <td>R$2,247.01R$257.83R$3,001.94R$3,887.79R$719.75...</td>\n",
       "    </tr>\n",
       "    <tr>\n",
       "      <th>4</th>\n",
       "      <td>Bahia</td>\n",
       "      <td>R$1,476.14R$1,182.08R$1,831.20R$696.75R$1,171....</td>\n",
       "    </tr>\n",
       "  </tbody>\n",
       "</table>\n",
       "</div>"
      ],
      "text/plain": [
       "     Estado                                                GMV\n",
       "0      Acre  R$48.91R$2,613.88R$755.96R$3,592.16R$2,984.27R...\n",
       "1   Alagoas  R$353.11R$2,897.06R$2,744.83R$3,426.24R$3,464....\n",
       "2     Amapá  R$1,258.62R$2,361.02R$138.18R$2,274.70R$3,658....\n",
       "3  Amazonas  R$2,247.01R$257.83R$3,001.94R$3,887.79R$719.75...\n",
       "4     Bahia  R$1,476.14R$1,182.08R$1,831.20R$696.75R$1,171...."
      ]
     },
     "execution_count": 9,
     "metadata": {},
     "output_type": "execute_result"
    }
   ],
   "source": [
    "meliuz_data = meliuz_data.groupby(['Estado'])['GMV'].sum().reset_index()\n",
    "meliuz_data.head()"
   ]
  },
  {
   "cell_type": "code",
   "execution_count": 12,
   "id": "d3818fc0",
   "metadata": {},
   "outputs": [
    {
     "data": {
      "image/png": "[encoded data removed]",
      "text/plain": [
       "<Figure size 640x480 with 1 Axes>"
      ]
     },
     "metadata": {},
     "output_type": "display_data"
    }
   ],
   "source": [
    "import numpy as np\n",
    "from matplotlib import pyplot as plt\n",
    "\n",
    "ys = 200 + np.random.randn(100)\n",
    "x = [x for x in range(len(ys))]\n",
    "\n",
    "plt.plot(x, ys, '-')\n",
    "plt.fill_between(x, ys, 195, where=(ys > 195), facecolor='g', alpha=0.6)\n",
    "\n",
    "plt.title(\"Sample Visualization\")\n",
    "plt.show()"
   ]
  },
  {
   "cell_type": "code",
   "execution_count": 17,
   "id": "290822ad",
   "metadata": {},
   "outputs": [
    {
     "data": {
      "text/html": [
       "<div>\n",
       "<style scoped>\n",
       "    .dataframe tbody tr th:only-of-type {\n",
       "        vertical-align: middle;\n",
       "    }\n",
       "\n",
       "    .dataframe tbody tr th {\n",
       "        vertical-align: top;\n",
       "    }\n",
       "\n",
       "    .dataframe thead th {\n",
       "        text-align: right;\n",
       "    }\n",
       "</style>\n",
       "<table border=\"1\" class=\"dataframe\">\n",
       "  <thead>\n",
       "    <tr style=\"text-align: right;\">\n",
       "      <th></th>\n",
       "      <th>Estado</th>\n",
       "      <th>GMV</th>\n",
       "    </tr>\n",
       "  </thead>\n",
       "  <tbody>\n",
       "    <tr>\n",
       "      <th>0</th>\n",
       "      <td>Acre</td>\n",
       "      <td>R$48.91R$2,613.88R$755.96R$3,592.16R$2,984.27R...</td>\n",
       "    </tr>\n",
       "    <tr>\n",
       "      <th>1</th>\n",
       "      <td>Alagoas</td>\n",
       "      <td>R$353.11R$2,897.06R$2,744.83R$3,426.24R$3,464....</td>\n",
       "    </tr>\n",
       "    <tr>\n",
       "      <th>2</th>\n",
       "      <td>Amapá</td>\n",
       "      <td>R$1,258.62R$2,361.02R$138.18R$2,274.70R$3,658....</td>\n",
       "    </tr>\n",
       "    <tr>\n",
       "      <th>3</th>\n",
       "      <td>Amazonas</td>\n",
       "      <td>R$2,247.01R$257.83R$3,001.94R$3,887.79R$719.75...</td>\n",
       "    </tr>\n",
       "    <tr>\n",
       "      <th>4</th>\n",
       "      <td>Bahia</td>\n",
       "      <td>R$1,476.14R$1,182.08R$1,831.20R$696.75R$1,171....</td>\n",
       "    </tr>\n",
       "  </tbody>\n",
       "</table>\n",
       "</div>"
      ],
      "text/plain": [
       "     Estado                                                GMV\n",
       "0      Acre  R$48.91R$2,613.88R$755.96R$3,592.16R$2,984.27R...\n",
       "1   Alagoas  R$353.11R$2,897.06R$2,744.83R$3,426.24R$3,464....\n",
       "2     Amapá  R$1,258.62R$2,361.02R$138.18R$2,274.70R$3,658....\n",
       "3  Amazonas  R$2,247.01R$257.83R$3,001.94R$3,887.79R$719.75...\n",
       "4     Bahia  R$1,476.14R$1,182.08R$1,831.20R$696.75R$1,171...."
      ]
     },
     "execution_count": 17,
     "metadata": {},
     "output_type": "execute_result"
    }
   ],
   "source": [
    "meliuz_data.head()"
   ]
  },
  {
   "cell_type": "code",
   "execution_count": 18,
   "id": "7c0a5e56",
   "metadata": {},
   "outputs": [
    {
     "data": {
      "text/plain": [
       "<bound method DataFrame.info of                  Estado                                                GMV\n",
       "0                  Acre  R$48.91R$2,613.88R$755.96R$3,592.16R$2,984.27R...\n",
       "1               Alagoas  R$353.11R$2,897.06R$2,744.83R$3,426.24R$3,464....\n",
       "2                 Amapá  R$1,258.62R$2,361.02R$138.18R$2,274.70R$3,658....\n",
       "3              Amazonas  R$2,247.01R$257.83R$3,001.94R$3,887.79R$719.75...\n",
       "4                 Bahia  R$1,476.14R$1,182.08R$1,831.20R$696.75R$1,171....\n",
       "5                 Ceará  R$1,068.17R$3,413.76R$1,816.41R$3,638.67R$1,77...\n",
       "6      Distrito Federal  R$2,605.39R$20.88R$2,081.05R$2,058.81R$1,121.6...\n",
       "7        Espírito Santo  R$1,035.05R$1,489.35R$2,491.98R$866.09R$3,150....\n",
       "8                 Goiás  R$530.45R$2,680.23R$659.60R$2,178.31R$3,897.10...\n",
       "9              Maranhao  R$1,871.94R$3,807.45R$896.30R$2,714.69R$389.25...\n",
       "10             Maranhão  R$431.36R$3,968.49R$2,866.48R$3,221.74R$2,196....\n",
       "11          Mato Grosso  R$3,061.55R$3,756.85R$2,806.66R$1,182.87R$890....\n",
       "12   Mato Grosso do Sul  R$1,930.59R$3,882.17R$3,785.63R$2,637.73R$3,51...\n",
       "13         Minas Gerais  R$2,776.41R$2,428.49R$2,411.60R$2,212.36R$3,02...\n",
       "14               Paraná  R$1,470.36R$3,755.45R$72.17R$715.47R$810.86R$2...\n",
       "15              Paraíba  R$2,774.57R$3,799.07R$1,486.48R$1,147.27R$2,24...\n",
       "16                 Pará  R$2,914.94R$68.52R$964.59R$456.69R$2,783.82R$1...\n",
       "17           Pernambuco  R$1,276.72R$2,277.55R$2,005.53R$3,948.64R$3,34...\n",
       "18                Piauí  R$1,110.19R$3,873.51R$2,456.64R$1,154.72R$1,73...\n",
       "19  Rio Grande do Norte  R$410.02R$889.03R$2,547.57R$1,795.48R$731.36R$...\n",
       "20    Rio Grande do Sul  R$1,436.95R$1,935.23R$3,532.49R$1,366.44R$2,90...\n",
       "21       Rio de Janeiro  R$3,963.12R$3,472.95R$2,006.46R$2,132.19R$3,00...\n",
       "22             Rondônia  R$2,908.27R$1,075.06R$2,802.38R$988.28R$2,606....\n",
       "23              Roraima  R$1,751.52R$2,232.17R$2,022.27R$3,829.53R$3,66...\n",
       "24       Santa Catarina  R$1,022.42R$3,486.26R$1,524.20R$732.90R$2,681....\n",
       "25            Sao Paulo  R$1,225.44R$1,625.44R$3,469.21R$1,598.64R$2,37...\n",
       "26              Sergipe  R$1,372.61R$1,088.10R$3,662.11R$3,992.62R$933....\n",
       "27            São Paulo  R$404.46R$3,909.23R$949.63R$3,777.29R$2,376.18...\n",
       "28            Tocantins  R$3,610.73R$1,252.50R$2,040.83R$3,308.02R$3,69...\n",
       "29         minas gerais  R$830.64R$461.81R$3,707.30R$1,503.19R$2,349.98...>"
      ]
     },
     "execution_count": 18,
     "metadata": {},
     "output_type": "execute_result"
    }
   ],
   "source": [
    "meliuz_data.info"
   ]
  },
  {
   "cell_type": "code",
   "execution_count": null,
   "id": "5e214083",
   "metadata": {},
   "outputs": [],
   "source": [
    "meliuz_data = meliuz_data.arange"
   ]
  }
 ],
 "metadata": {
  "kernelspec": {
   "display_name": "Python 3 (ipykernel)",
   "language": "python",
   "name": "python3"
  },
  "language_info": {
   "codemirror_mode": {
    "name": "ipython",
    "version": 3
   },
   "file_extension": ".py",
   "mimetype": "text/x-python",
   "name": "python",
   "nbconvert_exporter": "python",
   "pygments_lexer": "ipython3",
   "version": "3.11.4"
  }
 },
 "nbformat": 4,
 "nbformat_minor": 5
}
